{
 "cells": [
  {
   "cell_type": "code",
   "execution_count": 238,
   "metadata": {},
   "outputs": [],
   "source": [
    "import pandas as pd\n",
    "import numpy as np\n",
    "import seaborn as sns\n",
    "import matplotlib.pyplot as plt\n",
    "from sklearn.svm import SVC\n",
    "from sklearn.model_selection import train_test_split\n",
    "from sklearn.linear_model import LogisticRegression\n",
    "from sklearn.neighbors import KNeighborsClassifier\n",
    "from sklearn.metrics import accuracy_score, precision_score, recall_score, f1_score, confusion_matrix, classification_report\n",
    "from sklearn.preprocessing import StandardScaler"
   ]
  },
  {
   "cell_type": "code",
   "execution_count": 239,
   "metadata": {},
   "outputs": [],
   "source": [
    "df = pd.read_csv('train.csv')\n",
    "#df.head() #Making sure df works."
   ]
  },
  {
   "cell_type": "code",
   "execution_count": 240,
   "metadata": {},
   "outputs": [
    {
     "data": {
      "text/html": [
       "<div>\n",
       "<style scoped>\n",
       "    .dataframe tbody tr th:only-of-type {\n",
       "        vertical-align: middle;\n",
       "    }\n",
       "\n",
       "    .dataframe tbody tr th {\n",
       "        vertical-align: top;\n",
       "    }\n",
       "\n",
       "    .dataframe thead th {\n",
       "        text-align: right;\n",
       "    }\n",
       "</style>\n",
       "<table border=\"1\" class=\"dataframe\">\n",
       "  <thead>\n",
       "    <tr style=\"text-align: right;\">\n",
       "      <th></th>\n",
       "      <th>battery_power</th>\n",
       "      <th>blue</th>\n",
       "      <th>clock_speed</th>\n",
       "      <th>dual_sim</th>\n",
       "      <th>fc</th>\n",
       "      <th>four_g</th>\n",
       "      <th>int_memory</th>\n",
       "      <th>m_dep</th>\n",
       "      <th>mobile_wt</th>\n",
       "      <th>n_cores</th>\n",
       "      <th>...</th>\n",
       "      <th>ram</th>\n",
       "      <th>sc_h</th>\n",
       "      <th>sc_w</th>\n",
       "      <th>talk_time</th>\n",
       "      <th>three_g</th>\n",
       "      <th>touch_screen</th>\n",
       "      <th>wifi</th>\n",
       "      <th>price_range</th>\n",
       "      <th>total px</th>\n",
       "      <th>price_binary</th>\n",
       "    </tr>\n",
       "  </thead>\n",
       "  <tbody>\n",
       "    <tr>\n",
       "      <td>0</td>\n",
       "      <td>842</td>\n",
       "      <td>0</td>\n",
       "      <td>2.2</td>\n",
       "      <td>0</td>\n",
       "      <td>1</td>\n",
       "      <td>0</td>\n",
       "      <td>7</td>\n",
       "      <td>0.6</td>\n",
       "      <td>188</td>\n",
       "      <td>2</td>\n",
       "      <td>...</td>\n",
       "      <td>2549</td>\n",
       "      <td>9</td>\n",
       "      <td>7</td>\n",
       "      <td>19</td>\n",
       "      <td>0</td>\n",
       "      <td>0</td>\n",
       "      <td>1</td>\n",
       "      <td>1</td>\n",
       "      <td>15120</td>\n",
       "      <td>0</td>\n",
       "    </tr>\n",
       "    <tr>\n",
       "      <td>1</td>\n",
       "      <td>1021</td>\n",
       "      <td>1</td>\n",
       "      <td>0.5</td>\n",
       "      <td>1</td>\n",
       "      <td>0</td>\n",
       "      <td>1</td>\n",
       "      <td>53</td>\n",
       "      <td>0.7</td>\n",
       "      <td>136</td>\n",
       "      <td>3</td>\n",
       "      <td>...</td>\n",
       "      <td>2631</td>\n",
       "      <td>17</td>\n",
       "      <td>3</td>\n",
       "      <td>7</td>\n",
       "      <td>1</td>\n",
       "      <td>1</td>\n",
       "      <td>0</td>\n",
       "      <td>2</td>\n",
       "      <td>1799140</td>\n",
       "      <td>1</td>\n",
       "    </tr>\n",
       "    <tr>\n",
       "      <td>2</td>\n",
       "      <td>563</td>\n",
       "      <td>1</td>\n",
       "      <td>0.5</td>\n",
       "      <td>1</td>\n",
       "      <td>2</td>\n",
       "      <td>1</td>\n",
       "      <td>41</td>\n",
       "      <td>0.9</td>\n",
       "      <td>145</td>\n",
       "      <td>5</td>\n",
       "      <td>...</td>\n",
       "      <td>2603</td>\n",
       "      <td>11</td>\n",
       "      <td>2</td>\n",
       "      <td>9</td>\n",
       "      <td>1</td>\n",
       "      <td>1</td>\n",
       "      <td>0</td>\n",
       "      <td>2</td>\n",
       "      <td>2167308</td>\n",
       "      <td>1</td>\n",
       "    </tr>\n",
       "    <tr>\n",
       "      <td>3</td>\n",
       "      <td>615</td>\n",
       "      <td>1</td>\n",
       "      <td>2.5</td>\n",
       "      <td>0</td>\n",
       "      <td>0</td>\n",
       "      <td>0</td>\n",
       "      <td>10</td>\n",
       "      <td>0.8</td>\n",
       "      <td>131</td>\n",
       "      <td>6</td>\n",
       "      <td>...</td>\n",
       "      <td>2769</td>\n",
       "      <td>16</td>\n",
       "      <td>8</td>\n",
       "      <td>11</td>\n",
       "      <td>1</td>\n",
       "      <td>0</td>\n",
       "      <td>0</td>\n",
       "      <td>2</td>\n",
       "      <td>2171776</td>\n",
       "      <td>1</td>\n",
       "    </tr>\n",
       "    <tr>\n",
       "      <td>4</td>\n",
       "      <td>1821</td>\n",
       "      <td>1</td>\n",
       "      <td>1.2</td>\n",
       "      <td>0</td>\n",
       "      <td>13</td>\n",
       "      <td>1</td>\n",
       "      <td>44</td>\n",
       "      <td>0.6</td>\n",
       "      <td>141</td>\n",
       "      <td>2</td>\n",
       "      <td>...</td>\n",
       "      <td>1411</td>\n",
       "      <td>8</td>\n",
       "      <td>2</td>\n",
       "      <td>15</td>\n",
       "      <td>1</td>\n",
       "      <td>1</td>\n",
       "      <td>0</td>\n",
       "      <td>1</td>\n",
       "      <td>1464096</td>\n",
       "      <td>0</td>\n",
       "    </tr>\n",
       "  </tbody>\n",
       "</table>\n",
       "<p>5 rows × 23 columns</p>\n",
       "</div>"
      ],
      "text/plain": [
       "   battery_power  blue  clock_speed  dual_sim  fc  four_g  int_memory  m_dep  \\\n",
       "0            842     0          2.2         0   1       0           7    0.6   \n",
       "1           1021     1          0.5         1   0       1          53    0.7   \n",
       "2            563     1          0.5         1   2       1          41    0.9   \n",
       "3            615     1          2.5         0   0       0          10    0.8   \n",
       "4           1821     1          1.2         0  13       1          44    0.6   \n",
       "\n",
       "   mobile_wt  n_cores  ...   ram  sc_h  sc_w  talk_time  three_g  \\\n",
       "0        188        2  ...  2549     9     7         19        0   \n",
       "1        136        3  ...  2631    17     3          7        1   \n",
       "2        145        5  ...  2603    11     2          9        1   \n",
       "3        131        6  ...  2769    16     8         11        1   \n",
       "4        141        2  ...  1411     8     2         15        1   \n",
       "\n",
       "   touch_screen  wifi  price_range  total px  price_binary  \n",
       "0             0     1            1     15120             0  \n",
       "1             1     0            2   1799140             1  \n",
       "2             1     0            2   2167308             1  \n",
       "3             0     0            2   2171776             1  \n",
       "4             1     0            1   1464096             0  \n",
       "\n",
       "[5 rows x 23 columns]"
      ]
     },
     "execution_count": 240,
     "metadata": {},
     "output_type": "execute_result"
    }
   ],
   "source": [
    "df['total px'] = df['px_height'] * df['px_width']\n",
    "#df.head() #Testing that column was added\n",
    "df['price_binary'] = np.where(df['price_range'] < 2, 0, 1)\n",
    "df.head()"
   ]
  },
  {
   "cell_type": "code",
   "execution_count": 241,
   "metadata": {},
   "outputs": [
    {
     "data": {
      "text/plain": [
       "battery_power    0\n",
       "blue             0\n",
       "clock_speed      0\n",
       "dual_sim         0\n",
       "fc               0\n",
       "four_g           0\n",
       "int_memory       0\n",
       "m_dep            0\n",
       "mobile_wt        0\n",
       "n_cores          0\n",
       "pc               0\n",
       "px_height        0\n",
       "px_width         0\n",
       "ram              0\n",
       "sc_h             0\n",
       "sc_w             0\n",
       "talk_time        0\n",
       "three_g          0\n",
       "touch_screen     0\n",
       "wifi             0\n",
       "price_range      0\n",
       "total px         0\n",
       "price_binary     0\n",
       "dtype: int64"
      ]
     },
     "execution_count": 241,
     "metadata": {},
     "output_type": "execute_result"
    }
   ],
   "source": [
    "#checking for null values\n",
    "df.isnull().sum()"
   ]
  },
  {
   "cell_type": "code",
   "execution_count": 245,
   "metadata": {},
   "outputs": [
    {
     "data": {
      "text/plain": [
       "<matplotlib.axes._subplots.AxesSubplot at 0x7f899f770b90>"
      ]
     },
     "execution_count": 245,
     "metadata": {},
     "output_type": "execute_result"
    },
    {
     "data": {
      "image/png": "[encoded data removed]",
      "text/plain": [
       "<Figure size 432x288 with 1 Axes>"
      ]
     },
     "metadata": {
      "needs_background": "light"
     },
     "output_type": "display_data"
    }
   ],
   "source": [
    "#sns.pointplot(y='ram',x='price_range',data=df)"
   ]
  },
  {
   "cell_type": "code",
   "execution_count": 246,
   "metadata": {},
   "outputs": [],
   "source": [
    "X = df[['battery_power', 'blue', 'clock_speed', 'dual_sim', 'fc', 'four_g',\n",
    "       'int_memory', 'm_dep', 'mobile_wt', 'n_cores', 'pc', 'px_height',\n",
    "       'px_width', 'ram', 'sc_h', 'sc_w', 'talk_time', 'three_g',\n",
    "       'touch_screen', 'wifi']]\n",
    "Y = df['price_binary']"
   ]
  },
  {
   "cell_type": "code",
   "execution_count": 247,
   "metadata": {},
   "outputs": [],
   "source": [
    "scaler = StandardScaler()\n",
    "## fit the training data in StandardScaler and then transform\n",
    "X_train = scaler.fit_transform(X_train)\n",
    "## transform the test data using StandardScaler\n",
    "X_test = scaler.transform(X_test)"
   ]
  },
  {
   "cell_type": "code",
   "execution_count": 248,
   "metadata": {},
   "outputs": [
    {
     "data": {
      "text/plain": [
       "<matplotlib.axes._subplots.AxesSubplot at 0x7f899dce8150>"
      ]
     },
     "execution_count": 248,
     "metadata": {},
     "output_type": "execute_result"
    },
    {
     "data": {
      "image/png": "[encoded data removed]",
      "text/plain": [
       "<Figure size 1224x720 with 2 Axes>"
      ]
     },
     "metadata": {
      "needs_background": "light"
     },
     "output_type": "display_data"
    }
   ],
   "source": [
    "corr = df.corr()\n",
    "plt.figure(figsize = (17,10))\n",
    "sns.heatmap(corr,annot=True, fmt= \".0%\" , cmap = \"RdYlGn\")"
   ]
  },
  {
   "cell_type": "code",
   "execution_count": 249,
   "metadata": {},
   "outputs": [
    {
     "data": {
      "text/plain": [
       "(1400, 20)"
      ]
     },
     "metadata": {},
     "output_type": "display_data"
    },
    {
     "data": {
      "text/plain": [
       "(600, 20)"
      ]
     },
     "metadata": {},
     "output_type": "display_data"
    },
    {
     "data": {
      "text/plain": [
       "(1400,)"
      ]
     },
     "metadata": {},
     "output_type": "display_data"
    },
    {
     "data": {
      "text/plain": [
       "(600,)"
      ]
     },
     "metadata": {},
     "output_type": "display_data"
    }
   ],
   "source": [
    "X_train, X_test, y_train, y_test = train_test_split(X, Y, test_size = 0.3, random_state = 42)\n",
    "display(X_train.shape, X_test.shape, y_train.shape, y_test.shape)"
   ]
  },
  {
   "cell_type": "code",
   "execution_count": 250,
   "metadata": {},
   "outputs": [],
   "source": [
    "model_name , l_accuracy, l_recall , l_precision , l_specificity, l_f1_scr  = [], [] , [] ,[] , [] , []"
   ]
  },
  {
   "cell_type": "code",
   "execution_count": 251,
   "metadata": {},
   "outputs": [
    {
     "name": "stderr",
     "output_type": "stream",
     "text": [
      "/opt/anaconda3/lib/python3.7/site-packages/sklearn/linear_model/logistic.py:432: FutureWarning: Default solver will be changed to 'lbfgs' in 0.22. Specify a solver to silence this warning.\n",
      "  FutureWarning)\n"
     ]
    }
   ],
   "source": [
    "model = LogisticRegression()\n",
    "model.fit(X_train,y_train)\n",
    "y_train_pred = model.predict(X_train)\n",
    "y_test_pred = model.predict(X_test)"
   ]
  },
  {
   "cell_type": "code",
   "execution_count": 252,
   "metadata": {},
   "outputs": [
    {
     "name": "stdout",
     "output_type": "stream",
     "text": [
      "Train Set Accuracy:95.71428571428572\n",
      "Test Set Accuracy:95.0\n"
     ]
    }
   ],
   "source": [
    "train_acc = accuracy_score(y_train , y_train_pred)*100\n",
    "test_acc  = accuracy_score(y_test  , y_test_pred)*100\n",
    "precision = precision_score(y_test , y_test_pred, average = \"weighted\")\n",
    "recall    = recall_score(y_test , y_test_pred, average = \"weighted\")\n",
    "f1_scr    = f1_score(y_test , y_test_pred, average = \"weighted\")\n",
    "\n",
    "print(\"Train Set Accuracy:\"+str(train_acc))\n",
    "print(\"Test Set Accuracy:\"+str(test_acc))"
   ]
  },
  {
   "cell_type": "code",
   "execution_count": 253,
   "metadata": {},
   "outputs": [
    {
     "name": "stdout",
     "output_type": "stream",
     "text": [
      "\n",
      "Confusion Matrix:\n",
      "[[282  15]\n",
      " [ 15 288]]\n",
      "\n",
      "Classification Report:\n",
      "              precision    recall  f1-score   support\n",
      "\n",
      "           0       0.95      0.95      0.95       297\n",
      "           1       0.95      0.95      0.95       303\n",
      "\n",
      "    accuracy                           0.95       600\n",
      "   macro avg       0.95      0.95      0.95       600\n",
      "weighted avg       0.95      0.95      0.95       600\n",
      "\n"
     ]
    }
   ],
   "source": [
    "print(\"\\nConfusion Matrix:\\n%s\"%confusion_matrix(y_test_pred,y_test))\n",
    "print(\"\\nClassification Report:\\n%s\"%classification_report(y_test_pred,y_test))"
   ]
  },
  {
   "cell_type": "code",
   "execution_count": 254,
   "metadata": {},
   "outputs": [],
   "source": [
    "model_name.append(\"Logistic Regression\")\n",
    "l_accuracy.append(test_acc/100)\n",
    "l_recall.append(recall)\n",
    "l_precision.append(precision) \n",
    "l_f1_scr.append(f1_scr)"
   ]
  },
  {
   "cell_type": "code",
   "execution_count": 255,
   "metadata": {},
   "outputs": [],
   "source": [
    "model = KNeighborsClassifier(n_neighbors = 15)\n",
    "\n",
    "model.fit(X_train,y_train)\n",
    "y_train_pred = model.predict(X_train)\n",
    "y_test_pred = model.predict(X_test)"
   ]
  },
  {
   "cell_type": "code",
   "execution_count": 256,
   "metadata": {},
   "outputs": [
    {
     "name": "stdout",
     "output_type": "stream",
     "text": [
      "Train Set Accuracy:98.21428571428571\n",
      "Test Set Accuracy:97.33333333333334\n"
     ]
    }
   ],
   "source": [
    "train_acc = accuracy_score(y_train , y_train_pred)*100\n",
    "test_acc  = accuracy_score(y_test  , y_test_pred)*100\n",
    "precision = precision_score(y_test , y_test_pred, average = \"weighted\")\n",
    "recall    = recall_score(y_test , y_test_pred, average = \"weighted\")\n",
    "f1_scr    = f1_score(y_test , y_test_pred, average = \"weighted\")\n",
    "\n",
    "print(\"Train Set Accuracy:\"+str(train_acc))\n",
    "print(\"Test Set Accuracy:\"+str(test_acc))"
   ]
  },
  {
   "cell_type": "code",
   "execution_count": 257,
   "metadata": {},
   "outputs": [
    {
     "name": "stdout",
     "output_type": "stream",
     "text": [
      "\n",
      "Confusion Matrix:\n",
      "[[295  14]\n",
      " [  2 289]]\n",
      "\n",
      "Classification Report:\n",
      "              precision    recall  f1-score   support\n",
      "\n",
      "           0       0.99      0.95      0.97       309\n",
      "           1       0.95      0.99      0.97       291\n",
      "\n",
      "    accuracy                           0.97       600\n",
      "   macro avg       0.97      0.97      0.97       600\n",
      "weighted avg       0.97      0.97      0.97       600\n",
      "\n"
     ]
    }
   ],
   "source": [
    "print(\"\\nConfusion Matrix:\\n%s\"%confusion_matrix(y_test_pred,y_test))\n",
    "print(\"\\nClassification Report:\\n%s\"%classification_report(y_test_pred,y_test))"
   ]
  },
  {
   "cell_type": "code",
   "execution_count": 258,
   "metadata": {},
   "outputs": [],
   "source": [
    "model_name.append(\"KNeighborsClassifier\")\n",
    "l_accuracy.append(test_acc/100)\n",
    "l_recall.append(recall)\n",
    "l_precision.append(precision) \n",
    "l_f1_scr.append(f1_scr)"
   ]
  },
  {
   "cell_type": "code",
   "execution_count": 259,
   "metadata": {},
   "outputs": [],
   "source": [
    "model = SVC(kernel = 'linear',C = 2 , random_state = 1 , probability= True)\n",
    "\n",
    "model.fit(X_train,y_train)\n",
    "y_train_pred = model.predict(X_train)\n",
    "y_test_pred = model.predict(X_test)"
   ]
  },
  {
   "cell_type": "code",
   "execution_count": 260,
   "metadata": {},
   "outputs": [
    {
     "name": "stdout",
     "output_type": "stream",
     "text": [
      "Train Set Accuracy:99.14285714285714\n",
      "Test Set Accuracy:99.33333333333333\n"
     ]
    }
   ],
   "source": [
    "train_acc = accuracy_score(y_train , y_train_pred)*100\n",
    "test_acc  = accuracy_score(y_test  , y_test_pred)*100\n",
    "precision = precision_score(y_test , y_test_pred, average = \"weighted\")\n",
    "recall    = recall_score(y_test , y_test_pred, average = \"weighted\")\n",
    "f1_scr    = f1_score(y_test , y_test_pred, average = \"weighted\")\n",
    "\n",
    "print(\"Train Set Accuracy:\"+str(train_acc))\n",
    "print(\"Test Set Accuracy:\"+str(test_acc))"
   ]
  },
  {
   "cell_type": "code",
   "execution_count": 261,
   "metadata": {},
   "outputs": [],
   "source": [
    "model_name.append(\"Support vector machine\")\n",
    "l_accuracy.append(test_acc/100)\n",
    "l_recall.append(recall)\n",
    "l_precision.append(precision) \n",
    "l_f1_scr.append(f1_scr)"
   ]
  },
  {
   "cell_type": "code",
   "execution_count": 262,
   "metadata": {},
   "outputs": [
    {
     "name": "stdout",
     "output_type": "stream",
     "text": [
      "\n",
      "Confusion Matrix:\n",
      "[[297   4]\n",
      " [  0 299]]\n",
      "\n",
      "Classification Report:\n",
      "              precision    recall  f1-score   support\n",
      "\n",
      "           0       1.00      0.99      0.99       301\n",
      "           1       0.99      1.00      0.99       299\n",
      "\n",
      "    accuracy                           0.99       600\n",
      "   macro avg       0.99      0.99      0.99       600\n",
      "weighted avg       0.99      0.99      0.99       600\n",
      "\n"
     ]
    }
   ],
   "source": [
    "print(\"\\nConfusion Matrix:\\n%s\"%confusion_matrix(y_test_pred,y_test))\n",
    "print(\"\\nClassification Report:\\n%s\"%classification_report(y_test_pred,y_test))"
   ]
  },
  {
   "cell_type": "code",
   "execution_count": 263,
   "metadata": {},
   "outputs": [
    {
     "name": "stderr",
     "output_type": "stream",
     "text": [
      "/opt/anaconda3/lib/python3.7/site-packages/sklearn/ensemble/forest.py:245: FutureWarning: The default value of n_estimators will change from 10 in version 0.20 to 100 in 0.22.\n",
      "  \"10 in version 0.20 to 100 in 0.22.\", FutureWarning)\n"
     ]
    }
   ],
   "source": [
    "from sklearn.ensemble import RandomForestClassifier\n",
    "model = RandomForestClassifier(max_depth=11)\n",
    "\n",
    "model.fit(X_train,y_train)\n",
    "y_train_pred = model.predict(X_train)\n",
    "y_test_pred = model.predict(X_test)"
   ]
  },
  {
   "cell_type": "code",
   "execution_count": 264,
   "metadata": {},
   "outputs": [
    {
     "name": "stdout",
     "output_type": "stream",
     "text": [
      "Train Set Accuracy:99.21428571428571\n",
      "Test Set Accuracy:95.0\n"
     ]
    }
   ],
   "source": [
    "train_acc = accuracy_score(y_train , y_train_pred)*100\n",
    "test_acc  = accuracy_score(y_test  , y_test_pred)*100\n",
    "precision = precision_score(y_test , y_test_pred, average = \"weighted\")\n",
    "recall    = recall_score(y_test , y_test_pred, average = \"weighted\")\n",
    "f1_scr    = f1_score(y_test , y_test_pred, average = \"weighted\")\n",
    "\n",
    "print(\"Train Set Accuracy:\"+str(train_acc))\n",
    "print(\"Test Set Accuracy:\"+str(test_acc))"
   ]
  },
  {
   "cell_type": "code",
   "execution_count": 265,
   "metadata": {},
   "outputs": [
    {
     "name": "stdout",
     "output_type": "stream",
     "text": [
      "\n",
      "Confusion Matrix:\n",
      "[[286  19]\n",
      " [ 11 284]]\n",
      "\n",
      "Classification Report:\n",
      "              precision    recall  f1-score   support\n",
      "\n",
      "           0       0.96      0.94      0.95       305\n",
      "           1       0.94      0.96      0.95       295\n",
      "\n",
      "    accuracy                           0.95       600\n",
      "   macro avg       0.95      0.95      0.95       600\n",
      "weighted avg       0.95      0.95      0.95       600\n",
      "\n"
     ]
    }
   ],
   "source": [
    "print(\"\\nConfusion Matrix:\\n%s\"%confusion_matrix(y_test_pred,y_test))\n",
    "print(\"\\nClassification Report:\\n%s\"%classification_report(y_test_pred,y_test))"
   ]
  },
  {
   "cell_type": "code",
   "execution_count": 266,
   "metadata": {},
   "outputs": [],
   "source": [
    "model_name.append(\"Random Forest Classifier\")\n",
    "l_accuracy.append(test_acc/100)\n",
    "l_recall.append(recall)\n",
    "l_precision.append(precision) \n",
    "l_f1_scr.append(f1_scr)"
   ]
  },
  {
   "cell_type": "code",
   "execution_count": 267,
   "metadata": {},
   "outputs": [],
   "source": [
    "df_score = pd.DataFrame (columns = [\"Model\", \"test_accuracy\", \"recall\", \"precision\", \"f1_score\"])\n",
    "List = [model_name, l_accuracy , l_recall , l_precision  , l_f1_scr]\n",
    "for i in range(0,5):\n",
    "    j = np.asarray(List[i])\n",
    "    df_score[df_score.columns[i]] = j"
   ]
  },
  {
   "cell_type": "code",
   "execution_count": 268,
   "metadata": {},
   "outputs": [
    {
     "data": {
      "text/html": [
       "<div>\n",
       "<style scoped>\n",
       "    .dataframe tbody tr th:only-of-type {\n",
       "        vertical-align: middle;\n",
       "    }\n",
       "\n",
       "    .dataframe tbody tr th {\n",
       "        vertical-align: top;\n",
       "    }\n",
       "\n",
       "    .dataframe thead th {\n",
       "        text-align: right;\n",
       "    }\n",
       "</style>\n",
       "<table border=\"1\" class=\"dataframe\">\n",
       "  <thead>\n",
       "    <tr style=\"text-align: right;\">\n",
       "      <th></th>\n",
       "      <th>Model</th>\n",
       "      <th>test_accuracy</th>\n",
       "      <th>recall</th>\n",
       "      <th>precision</th>\n",
       "      <th>f1_score</th>\n",
       "    </tr>\n",
       "  </thead>\n",
       "  <tbody>\n",
       "    <tr>\n",
       "      <td>0</td>\n",
       "      <td>Logistic Regression</td>\n",
       "      <td>0.950000</td>\n",
       "      <td>0.950000</td>\n",
       "      <td>0.950000</td>\n",
       "      <td>0.950000</td>\n",
       "    </tr>\n",
       "    <tr>\n",
       "      <td>1</td>\n",
       "      <td>KNeighborsClassifier</td>\n",
       "      <td>0.973333</td>\n",
       "      <td>0.973333</td>\n",
       "      <td>0.974102</td>\n",
       "      <td>0.973328</td>\n",
       "    </tr>\n",
       "    <tr>\n",
       "      <td>2</td>\n",
       "      <td>Support vector machine</td>\n",
       "      <td>0.993333</td>\n",
       "      <td>0.993333</td>\n",
       "      <td>0.993422</td>\n",
       "      <td>0.993333</td>\n",
       "    </tr>\n",
       "    <tr>\n",
       "      <td>3</td>\n",
       "      <td>Random Forest Classifier</td>\n",
       "      <td>0.950000</td>\n",
       "      <td>0.950000</td>\n",
       "      <td>0.950333</td>\n",
       "      <td>0.949998</td>\n",
       "    </tr>\n",
       "  </tbody>\n",
       "</table>\n",
       "</div>"
      ],
      "text/plain": [
       "                      Model  test_accuracy    recall  precision  f1_score\n",
       "0       Logistic Regression       0.950000  0.950000   0.950000  0.950000\n",
       "1      KNeighborsClassifier       0.973333  0.973333   0.974102  0.973328\n",
       "2    Support vector machine       0.993333  0.993333   0.993422  0.993333\n",
       "3  Random Forest Classifier       0.950000  0.950000   0.950333  0.949998"
      ]
     },
     "execution_count": 268,
     "metadata": {},
     "output_type": "execute_result"
    }
   ],
   "source": [
    "df_score"
   ]
  },
  {
   "cell_type": "code",
   "execution_count": 292,
   "metadata": {},
   "outputs": [],
   "source": [
    "#New Xs took out everything with a correlation < 10%\n",
    "X = df[['battery_power','px_height','px_width', 'ram']]\n",
    "Y = df['price_binary']"
   ]
  },
  {
   "cell_type": "code",
   "execution_count": 293,
   "metadata": {},
   "outputs": [],
   "source": [
    "scaler = StandardScaler()\n",
    "## fit the training data in StandardScaler and then transform\n",
    "X_train = scaler.fit_transform(X_train)\n",
    "## transform the test data using StandardScaler\n",
    "X_test = scaler.transform(X_test)"
   ]
  },
  {
   "cell_type": "code",
   "execution_count": 294,
   "metadata": {},
   "outputs": [
    {
     "data": {
      "text/plain": [
       "(1400, 4)"
      ]
     },
     "metadata": {},
     "output_type": "display_data"
    },
    {
     "data": {
      "text/plain": [
       "(600, 4)"
      ]
     },
     "metadata": {},
     "output_type": "display_data"
    },
    {
     "data": {
      "text/plain": [
       "(1400,)"
      ]
     },
     "metadata": {},
     "output_type": "display_data"
    },
    {
     "data": {
      "text/plain": [
       "(600,)"
      ]
     },
     "metadata": {},
     "output_type": "display_data"
    }
   ],
   "source": [
    "X_train, X_test, y_train, y_test = train_test_split(X, Y, test_size = 0.3, random_state = 42)\n",
    "display(X_train.shape, X_test.shape, y_train.shape, y_test.shape)"
   ]
  },
  {
   "cell_type": "code",
   "execution_count": 295,
   "metadata": {},
   "outputs": [],
   "source": [
    "model_name1 , l_accuracy1, l_recall1 , l_precision1 , l_specificity1, l_f1_scr1  = [], [] , [] ,[] , [] , []"
   ]
  },
  {
   "cell_type": "code",
   "execution_count": 296,
   "metadata": {},
   "outputs": [
    {
     "name": "stderr",
     "output_type": "stream",
     "text": [
      "/opt/anaconda3/lib/python3.7/site-packages/sklearn/linear_model/logistic.py:432: FutureWarning: Default solver will be changed to 'lbfgs' in 0.22. Specify a solver to silence this warning.\n",
      "  FutureWarning)\n"
     ]
    }
   ],
   "source": [
    "model = LogisticRegression()\n",
    "model.fit(X_train,y_train)\n",
    "y_train_pred = model.predict(X_train)\n",
    "y_test_pred = model.predict(X_test)"
   ]
  },
  {
   "cell_type": "code",
   "execution_count": 297,
   "metadata": {},
   "outputs": [
    {
     "name": "stdout",
     "output_type": "stream",
     "text": [
      "Train Set Accuracy:95.92857142857143\n",
      "Test Set Accuracy:97.0\n"
     ]
    }
   ],
   "source": [
    "train_acc = accuracy_score(y_train , y_train_pred)*100\n",
    "test_acc  = accuracy_score(y_test  , y_test_pred)*100\n",
    "precision = precision_score(y_test , y_test_pred, average = \"weighted\")\n",
    "recall    = recall_score(y_test , y_test_pred, average = \"weighted\")\n",
    "f1_scr    = f1_score(y_test , y_test_pred, average = \"weighted\")\n",
    "\n",
    "print(\"Train Set Accuracy:\"+str(train_acc))\n",
    "print(\"Test Set Accuracy:\"+str(test_acc))"
   ]
  },
  {
   "cell_type": "code",
   "execution_count": 298,
   "metadata": {},
   "outputs": [
    {
     "name": "stdout",
     "output_type": "stream",
     "text": [
      "\n",
      "Confusion Matrix:\n",
      "[[287   8]\n",
      " [ 10 295]]\n",
      "\n",
      "Classification Report:\n",
      "              precision    recall  f1-score   support\n",
      "\n",
      "           0       0.97      0.97      0.97       295\n",
      "           1       0.97      0.97      0.97       305\n",
      "\n",
      "    accuracy                           0.97       600\n",
      "   macro avg       0.97      0.97      0.97       600\n",
      "weighted avg       0.97      0.97      0.97       600\n",
      "\n"
     ]
    }
   ],
   "source": [
    "print(\"\\nConfusion Matrix:\\n%s\"%confusion_matrix(y_test_pred,y_test))\n",
    "print(\"\\nClassification Report:\\n%s\"%classification_report(y_test_pred,y_test))"
   ]
  },
  {
   "cell_type": "code",
   "execution_count": 299,
   "metadata": {},
   "outputs": [],
   "source": [
    "model_name1.append(\"Logistic Regression\")\n",
    "l_accuracy1.append(test_acc/100)\n",
    "l_recall1.append(recall)\n",
    "l_precision1.append(precision) \n",
    "l_f1_scr1.append(f1_scr)"
   ]
  },
  {
   "cell_type": "code",
   "execution_count": 300,
   "metadata": {},
   "outputs": [],
   "source": [
    "model = KNeighborsClassifier(n_neighbors = 15)\n",
    "\n",
    "model.fit(X_train,y_train)\n",
    "y_train_pred = model.predict(X_train)\n",
    "y_test_pred = model.predict(X_test)"
   ]
  },
  {
   "cell_type": "code",
   "execution_count": 301,
   "metadata": {},
   "outputs": [
    {
     "name": "stdout",
     "output_type": "stream",
     "text": [
      "Train Set Accuracy:98.28571428571429\n",
      "Test Set Accuracy:97.16666666666667\n"
     ]
    }
   ],
   "source": [
    "train_acc = accuracy_score(y_train , y_train_pred)*100\n",
    "test_acc  = accuracy_score(y_test  , y_test_pred)*100\n",
    "precision = precision_score(y_test , y_test_pred, average = \"weighted\")\n",
    "recall    = recall_score(y_test , y_test_pred, average = \"weighted\")\n",
    "f1_scr    = f1_score(y_test , y_test_pred, average = \"weighted\")\n",
    "\n",
    "print(\"Train Set Accuracy:\"+str(train_acc))\n",
    "print(\"Test Set Accuracy:\"+str(test_acc))"
   ]
  },
  {
   "cell_type": "code",
   "execution_count": 302,
   "metadata": {},
   "outputs": [
    {
     "name": "stdout",
     "output_type": "stream",
     "text": [
      "\n",
      "Confusion Matrix:\n",
      "[[294  14]\n",
      " [  3 289]]\n",
      "\n",
      "Classification Report:\n",
      "              precision    recall  f1-score   support\n",
      "\n",
      "           0       0.99      0.95      0.97       308\n",
      "           1       0.95      0.99      0.97       292\n",
      "\n",
      "    accuracy                           0.97       600\n",
      "   macro avg       0.97      0.97      0.97       600\n",
      "weighted avg       0.97      0.97      0.97       600\n",
      "\n"
     ]
    }
   ],
   "source": [
    "print(\"\\nConfusion Matrix:\\n%s\"%confusion_matrix(y_test_pred,y_test))\n",
    "print(\"\\nClassification Report:\\n%s\"%classification_report(y_test_pred,y_test))"
   ]
  },
  {
   "cell_type": "code",
   "execution_count": 303,
   "metadata": {},
   "outputs": [],
   "source": [
    "model_name1.append(\"KNeighborsClassifier\")\n",
    "l_accuracy1.append(test_acc/100)\n",
    "l_recall1.append(recall)\n",
    "l_precision1.append(precision) \n",
    "l_f1_scr1.append(f1_scr)"
   ]
  },
  {
   "cell_type": "code",
   "execution_count": 304,
   "metadata": {},
   "outputs": [],
   "source": [
    "model = SVC(kernel = 'linear',C = 2 , random_state = 1 , probability= True)\n",
    "\n",
    "model.fit(X_train,y_train)\n",
    "y_train_pred = model.predict(X_train)\n",
    "y_test_pred = model.predict(X_test)"
   ]
  },
  {
   "cell_type": "code",
   "execution_count": 305,
   "metadata": {},
   "outputs": [
    {
     "name": "stdout",
     "output_type": "stream",
     "text": [
      "Train Set Accuracy:98.64285714285714\n",
      "Test Set Accuracy:99.0\n"
     ]
    }
   ],
   "source": [
    "train_acc = accuracy_score(y_train , y_train_pred)*100\n",
    "test_acc  = accuracy_score(y_test  , y_test_pred)*100\n",
    "precision = precision_score(y_test , y_test_pred, average = \"weighted\")\n",
    "recall    = recall_score(y_test , y_test_pred, average = \"weighted\")\n",
    "f1_scr    = f1_score(y_test , y_test_pred, average = \"weighted\")\n",
    "\n",
    "print(\"Train Set Accuracy:\"+str(train_acc))\n",
    "print(\"Test Set Accuracy:\"+str(test_acc))"
   ]
  },
  {
   "cell_type": "code",
   "execution_count": 306,
   "metadata": {},
   "outputs": [
    {
     "name": "stdout",
     "output_type": "stream",
     "text": [
      "\n",
      "Confusion Matrix:\n",
      "[[296   5]\n",
      " [  1 298]]\n",
      "\n",
      "Classification Report:\n",
      "              precision    recall  f1-score   support\n",
      "\n",
      "           0       1.00      0.98      0.99       301\n",
      "           1       0.98      1.00      0.99       299\n",
      "\n",
      "    accuracy                           0.99       600\n",
      "   macro avg       0.99      0.99      0.99       600\n",
      "weighted avg       0.99      0.99      0.99       600\n",
      "\n"
     ]
    }
   ],
   "source": [
    "print(\"\\nConfusion Matrix:\\n%s\"%confusion_matrix(y_test_pred,y_test))\n",
    "print(\"\\nClassification Report:\\n%s\"%classification_report(y_test_pred,y_test))"
   ]
  },
  {
   "cell_type": "code",
   "execution_count": 307,
   "metadata": {},
   "outputs": [],
   "source": [
    "model_name1.append(\"Support vector machine\")\n",
    "l_accuracy1.append(test_acc/100)\n",
    "l_recall1.append(recall)\n",
    "l_precision1.append(precision) \n",
    "l_f1_scr1.append(f1_scr)"
   ]
  },
  {
   "cell_type": "code",
   "execution_count": 308,
   "metadata": {},
   "outputs": [
    {
     "name": "stderr",
     "output_type": "stream",
     "text": [
      "/opt/anaconda3/lib/python3.7/site-packages/sklearn/ensemble/forest.py:245: FutureWarning: The default value of n_estimators will change from 10 in version 0.20 to 100 in 0.22.\n",
      "  \"10 in version 0.20 to 100 in 0.22.\", FutureWarning)\n"
     ]
    }
   ],
   "source": [
    "model = RandomForestClassifier(max_depth=11)\n",
    "\n",
    "model.fit(X_train,y_train)\n",
    "y_train_pred = model.predict(X_train)\n",
    "y_test_pred = model.predict(X_test)"
   ]
  },
  {
   "cell_type": "code",
   "execution_count": 309,
   "metadata": {},
   "outputs": [
    {
     "name": "stdout",
     "output_type": "stream",
     "text": [
      "Train Set Accuracy:99.57142857142857\n",
      "Test Set Accuracy:96.16666666666667\n"
     ]
    }
   ],
   "source": [
    "train_acc = accuracy_score(y_train , y_train_pred)*100\n",
    "test_acc  = accuracy_score(y_test  , y_test_pred)*100\n",
    "precision = precision_score(y_test , y_test_pred, average = \"weighted\")\n",
    "recall    = recall_score(y_test , y_test_pred, average = \"weighted\")\n",
    "f1_scr    = f1_score(y_test , y_test_pred, average = \"weighted\")\n",
    "\n",
    "print(\"Train Set Accuracy:\"+str(train_acc))\n",
    "print(\"Test Set Accuracy:\"+str(test_acc))"
   ]
  },
  {
   "cell_type": "code",
   "execution_count": 310,
   "metadata": {},
   "outputs": [
    {
     "name": "stdout",
     "output_type": "stream",
     "text": [
      "\n",
      "Confusion Matrix:\n",
      "[[291  17]\n",
      " [  6 286]]\n",
      "\n",
      "Classification Report:\n",
      "              precision    recall  f1-score   support\n",
      "\n",
      "           0       0.98      0.94      0.96       308\n",
      "           1       0.94      0.98      0.96       292\n",
      "\n",
      "    accuracy                           0.96       600\n",
      "   macro avg       0.96      0.96      0.96       600\n",
      "weighted avg       0.96      0.96      0.96       600\n",
      "\n"
     ]
    }
   ],
   "source": [
    "print(\"\\nConfusion Matrix:\\n%s\"%confusion_matrix(y_test_pred,y_test))\n",
    "print(\"\\nClassification Report:\\n%s\"%classification_report(y_test_pred,y_test))"
   ]
  },
  {
   "cell_type": "code",
   "execution_count": 311,
   "metadata": {},
   "outputs": [],
   "source": [
    "model_name1.append(\"Random Forest Classifier\")\n",
    "l_accuracy1.append(test_acc/100)\n",
    "l_recall1.append(recall)\n",
    "l_precision1.append(precision) \n",
    "l_f1_scr1.append(f1_scr)"
   ]
  },
  {
   "cell_type": "code",
   "execution_count": 312,
   "metadata": {},
   "outputs": [],
   "source": [
    "df_score1 = pd.DataFrame (columns = [\"Model\", \"test_accuracy\", \"recall\", \"precision\", \"f1_score\"])\n",
    "List = [model_name1, l_accuracy1 , l_recall1 , l_precision1  , l_f1_scr1]\n",
    "for i in range(0,5):\n",
    "    j = np.asarray(List[i])\n",
    "    df_score1[df_score1.columns[i]] = j"
   ]
  },
  {
   "cell_type": "code",
   "execution_count": 318,
   "metadata": {},
   "outputs": [
    {
     "name": "stdout",
     "output_type": "stream",
     "text": [
      "Reduced Model:\n"
     ]
    },
    {
     "data": {
      "text/html": [
       "<div>\n",
       "<style scoped>\n",
       "    .dataframe tbody tr th:only-of-type {\n",
       "        vertical-align: middle;\n",
       "    }\n",
       "\n",
       "    .dataframe tbody tr th {\n",
       "        vertical-align: top;\n",
       "    }\n",
       "\n",
       "    .dataframe thead th {\n",
       "        text-align: right;\n",
       "    }\n",
       "</style>\n",
       "<table border=\"1\" class=\"dataframe\">\n",
       "  <thead>\n",
       "    <tr style=\"text-align: right;\">\n",
       "      <th></th>\n",
       "      <th>Model</th>\n",
       "      <th>test_accuracy</th>\n",
       "      <th>recall</th>\n",
       "      <th>precision</th>\n",
       "      <th>f1_score</th>\n",
       "    </tr>\n",
       "  </thead>\n",
       "  <tbody>\n",
       "    <tr>\n",
       "      <td>0</td>\n",
       "      <td>Logistic Regression</td>\n",
       "      <td>0.970000</td>\n",
       "      <td>0.970000</td>\n",
       "      <td>0.970019</td>\n",
       "      <td>0.969999</td>\n",
       "    </tr>\n",
       "    <tr>\n",
       "      <td>1</td>\n",
       "      <td>KNeighborsClassifier</td>\n",
       "      <td>0.971667</td>\n",
       "      <td>0.971667</td>\n",
       "      <td>0.972312</td>\n",
       "      <td>0.971662</td>\n",
       "    </tr>\n",
       "    <tr>\n",
       "      <td>2</td>\n",
       "      <td>Support vector machine</td>\n",
       "      <td>0.990000</td>\n",
       "      <td>0.990000</td>\n",
       "      <td>0.990088</td>\n",
       "      <td>0.990000</td>\n",
       "    </tr>\n",
       "    <tr>\n",
       "      <td>3</td>\n",
       "      <td>Random Forest Classifier</td>\n",
       "      <td>0.961667</td>\n",
       "      <td>0.961667</td>\n",
       "      <td>0.962302</td>\n",
       "      <td>0.961661</td>\n",
       "    </tr>\n",
       "  </tbody>\n",
       "</table>\n",
       "</div>"
      ],
      "text/plain": [
       "                      Model  test_accuracy    recall  precision  f1_score\n",
       "0       Logistic Regression       0.970000  0.970000   0.970019  0.969999\n",
       "1      KNeighborsClassifier       0.971667  0.971667   0.972312  0.971662\n",
       "2    Support vector machine       0.990000  0.990000   0.990088  0.990000\n",
       "3  Random Forest Classifier       0.961667  0.961667   0.962302  0.961661"
      ]
     },
     "execution_count": 318,
     "metadata": {},
     "output_type": "execute_result"
    }
   ],
   "source": [
    "print(\"Reduced Model:\")\n",
    "df_score1"
   ]
  },
  {
   "cell_type": "code",
   "execution_count": 317,
   "metadata": {},
   "outputs": [
    {
     "name": "stdout",
     "output_type": "stream",
     "text": [
      "Full Model:\n"
     ]
    },
    {
     "data": {
      "text/html": [
       "<div>\n",
       "<style scoped>\n",
       "    .dataframe tbody tr th:only-of-type {\n",
       "        vertical-align: middle;\n",
       "    }\n",
       "\n",
       "    .dataframe tbody tr th {\n",
       "        vertical-align: top;\n",
       "    }\n",
       "\n",
       "    .dataframe thead th {\n",
       "        text-align: right;\n",
       "    }\n",
       "</style>\n",
       "<table border=\"1\" class=\"dataframe\">\n",
       "  <thead>\n",
       "    <tr style=\"text-align: right;\">\n",
       "      <th></th>\n",
       "      <th>Model</th>\n",
       "      <th>test_accuracy</th>\n",
       "      <th>recall</th>\n",
       "      <th>precision</th>\n",
       "      <th>f1_score</th>\n",
       "    </tr>\n",
       "  </thead>\n",
       "  <tbody>\n",
       "    <tr>\n",
       "      <td>0</td>\n",
       "      <td>Logistic Regression</td>\n",
       "      <td>0.950000</td>\n",
       "      <td>0.950000</td>\n",
       "      <td>0.950000</td>\n",
       "      <td>0.950000</td>\n",
       "    </tr>\n",
       "    <tr>\n",
       "      <td>1</td>\n",
       "      <td>KNeighborsClassifier</td>\n",
       "      <td>0.973333</td>\n",
       "      <td>0.973333</td>\n",
       "      <td>0.974102</td>\n",
       "      <td>0.973328</td>\n",
       "    </tr>\n",
       "    <tr>\n",
       "      <td>2</td>\n",
       "      <td>Support vector machine</td>\n",
       "      <td>0.993333</td>\n",
       "      <td>0.993333</td>\n",
       "      <td>0.993422</td>\n",
       "      <td>0.993333</td>\n",
       "    </tr>\n",
       "    <tr>\n",
       "      <td>3</td>\n",
       "      <td>Random Forest Classifier</td>\n",
       "      <td>0.950000</td>\n",
       "      <td>0.950000</td>\n",
       "      <td>0.950333</td>\n",
       "      <td>0.949998</td>\n",
       "    </tr>\n",
       "  </tbody>\n",
       "</table>\n",
       "</div>"
      ],
      "text/plain": [
       "                      Model  test_accuracy    recall  precision  f1_score\n",
       "0       Logistic Regression       0.950000  0.950000   0.950000  0.950000\n",
       "1      KNeighborsClassifier       0.973333  0.973333   0.974102  0.973328\n",
       "2    Support vector machine       0.993333  0.993333   0.993422  0.993333\n",
       "3  Random Forest Classifier       0.950000  0.950000   0.950333  0.949998"
      ]
     },
     "execution_count": 317,
     "metadata": {},
     "output_type": "execute_result"
    }
   ],
   "source": [
    "print(\"Full Model:\")\n",
    "df_score"
   ]
  },
  {
   "cell_type": "code",
   "execution_count": null,
   "metadata": {},
   "outputs": [],
   "source": []
  }
 ],
 "metadata": {
  "kernelspec": {
   "display_name": "Python 3",
   "language": "python",
   "name": "python3"
  },
  "language_info": {
   "codemirror_mode": {
    "name": "ipython",
    "version": 3
   },
   "file_extension": ".py",
   "mimetype": "text/x-python",
   "name": "python",
   "nbconvert_exporter": "python",
   "pygments_lexer": "ipython3",
   "version": "3.7.4"
  }
 },
 "nbformat": 4,
 "nbformat_minor": 2
}
